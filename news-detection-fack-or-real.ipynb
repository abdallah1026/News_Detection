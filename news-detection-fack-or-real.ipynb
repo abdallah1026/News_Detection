{
 "cells": [
  {
   "cell_type": "code",
   "execution_count": 1,
   "id": "cb717522",
   "metadata": {
    "_cell_guid": "b1076dfc-b9ad-4769-8c92-a6c4dae69d19",
    "_uuid": "8f2839f25d086af736a60e9eeb907d3b93b6e0e5",
    "execution": {
     "iopub.execute_input": "2024-07-30T09:20:13.180190Z",
     "iopub.status.busy": "2024-07-30T09:20:13.179768Z",
     "iopub.status.idle": "2024-07-30T09:20:16.567951Z",
     "shell.execute_reply": "2024-07-30T09:20:16.566837Z"
    },
    "papermill": {
     "duration": 3.40393,
     "end_time": "2024-07-30T09:20:16.570841",
     "exception": false,
     "start_time": "2024-07-30T09:20:13.166911",
     "status": "completed"
    },
    "tags": []
   },
   "outputs": [],
   "source": [
    "import nltk\n",
    "import numpy as np                                            # =========> This library is used for numerical operations and data manipulation.\n",
    "import pandas as pd                                           # =========> This library is used for data loading, cleaning, and preprocessing.\n",
    "import re                                                     # =========> This library is used for regular expression operations, which are useful for text processing.\n",
    "from nltk.corpus import stopwords                             # =========> This is used to access the NLTK (Natural Language Toolkit) stopwords corpus,\n",
    "                                                              # which contains common words that are often removed from text during preprocessing\n",
    "from nltk.stem.porter import PorterStemmer                    # =========> This is used to implement the Porter stemming algorithm, \n",
    "                                                              # which is a common technique for reducing words to their base or stem form.\n",
    "from sklearn.feature_extraction.text import TfidfVectorizer   # =========> This is used to convert text data into a numerical format that \n",
    "                                                              # can be used by machine learning algorithms.\n",
    "from sklearn.model_selection import train_test_split          # =========> This is used to split the dataset into training and testing sets. \n",
    "from sklearn.linear_model import LogisticRegression           # =========> This is the machine learning algorithm used for the classification task.\n",
    "from sklearn.metrics import accuracy_score                    # =========> This is used to evaluate the performance of the trained model.\n",
    "import matplotlib.pyplot as plt"
   ]
  },
  {
   "cell_type": "code",
   "execution_count": 2,
   "id": "bd7bc0a0",
   "metadata": {
    "execution": {
     "iopub.execute_input": "2024-07-30T09:20:16.592922Z",
     "iopub.status.busy": "2024-07-30T09:20:16.591800Z",
     "iopub.status.idle": "2024-07-30T09:20:19.740092Z",
     "shell.execute_reply": "2024-07-30T09:20:19.738958Z"
    },
    "papermill": {
     "duration": 3.162137,
     "end_time": "2024-07-30T09:20:19.742858",
     "exception": false,
     "start_time": "2024-07-30T09:20:16.580721",
     "status": "completed"
    },
    "tags": []
   },
   "outputs": [],
   "source": [
    "# Laoding Data to Pandas DataFrame\n",
    "\n",
    "df = pd.read_csv('/kaggle/input/fack-or-real-news/train.csv')"
   ]
  },
  {
   "cell_type": "code",
   "execution_count": 3,
   "id": "761fea9c",
   "metadata": {
    "execution": {
     "iopub.execute_input": "2024-07-30T09:20:19.764705Z",
     "iopub.status.busy": "2024-07-30T09:20:19.763759Z",
     "iopub.status.idle": "2024-07-30T09:20:19.793610Z",
     "shell.execute_reply": "2024-07-30T09:20:19.792345Z"
    },
    "papermill": {
     "duration": 0.043736,
     "end_time": "2024-07-30T09:20:19.796241",
     "exception": false,
     "start_time": "2024-07-30T09:20:19.752505",
     "status": "completed"
    },
    "tags": []
   },
   "outputs": [
    {
     "data": {
      "text/html": [
       "<div>\n",
       "<style scoped>\n",
       "    .dataframe tbody tr th:only-of-type {\n",
       "        vertical-align: middle;\n",
       "    }\n",
       "\n",
       "    .dataframe tbody tr th {\n",
       "        vertical-align: top;\n",
       "    }\n",
       "\n",
       "    .dataframe thead th {\n",
       "        text-align: right;\n",
       "    }\n",
       "</style>\n",
       "<table border=\"1\" class=\"dataframe\">\n",
       "  <thead>\n",
       "    <tr style=\"text-align: right;\">\n",
       "      <th></th>\n",
       "      <th>id</th>\n",
       "      <th>title</th>\n",
       "      <th>author</th>\n",
       "      <th>text</th>\n",
       "      <th>label</th>\n",
       "    </tr>\n",
       "  </thead>\n",
       "  <tbody>\n",
       "    <tr>\n",
       "      <th>0</th>\n",
       "      <td>0</td>\n",
       "      <td>House Dem Aide: We Didn’t Even See Comey’s Let...</td>\n",
       "      <td>Darrell Lucus</td>\n",
       "      <td>House Dem Aide: We Didn’t Even See Comey’s Let...</td>\n",
       "      <td>1</td>\n",
       "    </tr>\n",
       "    <tr>\n",
       "      <th>1</th>\n",
       "      <td>1</td>\n",
       "      <td>FLYNN: Hillary Clinton, Big Woman on Campus - ...</td>\n",
       "      <td>Daniel J. Flynn</td>\n",
       "      <td>Ever get the feeling your life circles the rou...</td>\n",
       "      <td>0</td>\n",
       "    </tr>\n",
       "    <tr>\n",
       "      <th>2</th>\n",
       "      <td>2</td>\n",
       "      <td>Why the Truth Might Get You Fired</td>\n",
       "      <td>Consortiumnews.com</td>\n",
       "      <td>Why the Truth Might Get You Fired October 29, ...</td>\n",
       "      <td>1</td>\n",
       "    </tr>\n",
       "    <tr>\n",
       "      <th>3</th>\n",
       "      <td>3</td>\n",
       "      <td>15 Civilians Killed In Single US Airstrike Hav...</td>\n",
       "      <td>Jessica Purkiss</td>\n",
       "      <td>Videos 15 Civilians Killed In Single US Airstr...</td>\n",
       "      <td>1</td>\n",
       "    </tr>\n",
       "    <tr>\n",
       "      <th>4</th>\n",
       "      <td>4</td>\n",
       "      <td>Iranian woman jailed for fictional unpublished...</td>\n",
       "      <td>Howard Portnoy</td>\n",
       "      <td>Print \\nAn Iranian woman has been sentenced to...</td>\n",
       "      <td>1</td>\n",
       "    </tr>\n",
       "    <tr>\n",
       "      <th>...</th>\n",
       "      <td>...</td>\n",
       "      <td>...</td>\n",
       "      <td>...</td>\n",
       "      <td>...</td>\n",
       "      <td>...</td>\n",
       "    </tr>\n",
       "    <tr>\n",
       "      <th>20795</th>\n",
       "      <td>20795</td>\n",
       "      <td>Rapper T.I.: Trump a ’Poster Child For White S...</td>\n",
       "      <td>Jerome Hudson</td>\n",
       "      <td>Rapper T. I. unloaded on black celebrities who...</td>\n",
       "      <td>0</td>\n",
       "    </tr>\n",
       "    <tr>\n",
       "      <th>20796</th>\n",
       "      <td>20796</td>\n",
       "      <td>N.F.L. Playoffs: Schedule, Matchups and Odds -...</td>\n",
       "      <td>Benjamin Hoffman</td>\n",
       "      <td>When the Green Bay Packers lost to the Washing...</td>\n",
       "      <td>0</td>\n",
       "    </tr>\n",
       "    <tr>\n",
       "      <th>20797</th>\n",
       "      <td>20797</td>\n",
       "      <td>Macy’s Is Said to Receive Takeover Approach by...</td>\n",
       "      <td>Michael J. de la Merced and Rachel Abrams</td>\n",
       "      <td>The Macy’s of today grew from the union of sev...</td>\n",
       "      <td>0</td>\n",
       "    </tr>\n",
       "    <tr>\n",
       "      <th>20798</th>\n",
       "      <td>20798</td>\n",
       "      <td>NATO, Russia To Hold Parallel Exercises In Bal...</td>\n",
       "      <td>Alex Ansary</td>\n",
       "      <td>NATO, Russia To Hold Parallel Exercises In Bal...</td>\n",
       "      <td>1</td>\n",
       "    </tr>\n",
       "    <tr>\n",
       "      <th>20799</th>\n",
       "      <td>20799</td>\n",
       "      <td>What Keeps the F-35 Alive</td>\n",
       "      <td>David Swanson</td>\n",
       "      <td>David Swanson is an author, activist, journa...</td>\n",
       "      <td>1</td>\n",
       "    </tr>\n",
       "  </tbody>\n",
       "</table>\n",
       "<p>20800 rows × 5 columns</p>\n",
       "</div>"
      ],
      "text/plain": [
       "          id                                              title  \\\n",
       "0          0  House Dem Aide: We Didn’t Even See Comey’s Let...   \n",
       "1          1  FLYNN: Hillary Clinton, Big Woman on Campus - ...   \n",
       "2          2                  Why the Truth Might Get You Fired   \n",
       "3          3  15 Civilians Killed In Single US Airstrike Hav...   \n",
       "4          4  Iranian woman jailed for fictional unpublished...   \n",
       "...      ...                                                ...   \n",
       "20795  20795  Rapper T.I.: Trump a ’Poster Child For White S...   \n",
       "20796  20796  N.F.L. Playoffs: Schedule, Matchups and Odds -...   \n",
       "20797  20797  Macy’s Is Said to Receive Takeover Approach by...   \n",
       "20798  20798  NATO, Russia To Hold Parallel Exercises In Bal...   \n",
       "20799  20799                          What Keeps the F-35 Alive   \n",
       "\n",
       "                                          author  \\\n",
       "0                                  Darrell Lucus   \n",
       "1                                Daniel J. Flynn   \n",
       "2                             Consortiumnews.com   \n",
       "3                                Jessica Purkiss   \n",
       "4                                 Howard Portnoy   \n",
       "...                                          ...   \n",
       "20795                              Jerome Hudson   \n",
       "20796                           Benjamin Hoffman   \n",
       "20797  Michael J. de la Merced and Rachel Abrams   \n",
       "20798                                Alex Ansary   \n",
       "20799                              David Swanson   \n",
       "\n",
       "                                                    text  label  \n",
       "0      House Dem Aide: We Didn’t Even See Comey’s Let...      1  \n",
       "1      Ever get the feeling your life circles the rou...      0  \n",
       "2      Why the Truth Might Get You Fired October 29, ...      1  \n",
       "3      Videos 15 Civilians Killed In Single US Airstr...      1  \n",
       "4      Print \\nAn Iranian woman has been sentenced to...      1  \n",
       "...                                                  ...    ...  \n",
       "20795  Rapper T. I. unloaded on black celebrities who...      0  \n",
       "20796  When the Green Bay Packers lost to the Washing...      0  \n",
       "20797  The Macy’s of today grew from the union of sev...      0  \n",
       "20798  NATO, Russia To Hold Parallel Exercises In Bal...      1  \n",
       "20799    David Swanson is an author, activist, journa...      1  \n",
       "\n",
       "[20800 rows x 5 columns]"
      ]
     },
     "execution_count": 3,
     "metadata": {},
     "output_type": "execute_result"
    }
   ],
   "source": [
    "df"
   ]
  },
  {
   "cell_type": "code",
   "execution_count": 4,
   "id": "e4081f10",
   "metadata": {
    "execution": {
     "iopub.execute_input": "2024-07-30T09:20:19.818490Z",
     "iopub.status.busy": "2024-07-30T09:20:19.817932Z",
     "iopub.status.idle": "2024-07-30T09:20:19.825279Z",
     "shell.execute_reply": "2024-07-30T09:20:19.824044Z"
    },
    "papermill": {
     "duration": 0.021439,
     "end_time": "2024-07-30T09:20:19.827850",
     "exception": false,
     "start_time": "2024-07-30T09:20:19.806411",
     "status": "completed"
    },
    "tags": []
   },
   "outputs": [
    {
     "data": {
      "text/plain": [
       "(20800, 5)"
      ]
     },
     "execution_count": 4,
     "metadata": {},
     "output_type": "execute_result"
    }
   ],
   "source": [
    "df.shape"
   ]
  },
  {
   "cell_type": "code",
   "execution_count": 5,
   "id": "131b236f",
   "metadata": {
    "execution": {
     "iopub.execute_input": "2024-07-30T09:20:19.851716Z",
     "iopub.status.busy": "2024-07-30T09:20:19.850969Z",
     "iopub.status.idle": "2024-07-30T09:20:19.862039Z",
     "shell.execute_reply": "2024-07-30T09:20:19.860912Z"
    },
    "papermill": {
     "duration": 0.026194,
     "end_time": "2024-07-30T09:20:19.864736",
     "exception": false,
     "start_time": "2024-07-30T09:20:19.838542",
     "status": "completed"
    },
    "tags": []
   },
   "outputs": [
    {
     "data": {
      "text/plain": [
       "<bound method NDFrame.head of           id                                              title  \\\n",
       "0          0  House Dem Aide: We Didn’t Even See Comey’s Let...   \n",
       "1          1  FLYNN: Hillary Clinton, Big Woman on Campus - ...   \n",
       "2          2                  Why the Truth Might Get You Fired   \n",
       "3          3  15 Civilians Killed In Single US Airstrike Hav...   \n",
       "4          4  Iranian woman jailed for fictional unpublished...   \n",
       "...      ...                                                ...   \n",
       "20795  20795  Rapper T.I.: Trump a ’Poster Child For White S...   \n",
       "20796  20796  N.F.L. Playoffs: Schedule, Matchups and Odds -...   \n",
       "20797  20797  Macy’s Is Said to Receive Takeover Approach by...   \n",
       "20798  20798  NATO, Russia To Hold Parallel Exercises In Bal...   \n",
       "20799  20799                          What Keeps the F-35 Alive   \n",
       "\n",
       "                                          author  \\\n",
       "0                                  Darrell Lucus   \n",
       "1                                Daniel J. Flynn   \n",
       "2                             Consortiumnews.com   \n",
       "3                                Jessica Purkiss   \n",
       "4                                 Howard Portnoy   \n",
       "...                                          ...   \n",
       "20795                              Jerome Hudson   \n",
       "20796                           Benjamin Hoffman   \n",
       "20797  Michael J. de la Merced and Rachel Abrams   \n",
       "20798                                Alex Ansary   \n",
       "20799                              David Swanson   \n",
       "\n",
       "                                                    text  label  \n",
       "0      House Dem Aide: We Didn’t Even See Comey’s Let...      1  \n",
       "1      Ever get the feeling your life circles the rou...      0  \n",
       "2      Why the Truth Might Get You Fired October 29, ...      1  \n",
       "3      Videos 15 Civilians Killed In Single US Airstr...      1  \n",
       "4      Print \\nAn Iranian woman has been sentenced to...      1  \n",
       "...                                                  ...    ...  \n",
       "20795  Rapper T. I. unloaded on black celebrities who...      0  \n",
       "20796  When the Green Bay Packers lost to the Washing...      0  \n",
       "20797  The Macy’s of today grew from the union of sev...      0  \n",
       "20798  NATO, Russia To Hold Parallel Exercises In Bal...      1  \n",
       "20799    David Swanson is an author, activist, journa...      1  \n",
       "\n",
       "[20800 rows x 5 columns]>"
      ]
     },
     "execution_count": 5,
     "metadata": {},
     "output_type": "execute_result"
    }
   ],
   "source": [
    "df.head"
   ]
  },
  {
   "cell_type": "code",
   "execution_count": 6,
   "id": "b8440e27",
   "metadata": {
    "execution": {
     "iopub.execute_input": "2024-07-30T09:20:19.887814Z",
     "iopub.status.busy": "2024-07-30T09:20:19.887000Z",
     "iopub.status.idle": "2024-07-30T09:20:19.907193Z",
     "shell.execute_reply": "2024-07-30T09:20:19.906050Z"
    },
    "papermill": {
     "duration": 0.034554,
     "end_time": "2024-07-30T09:20:19.909805",
     "exception": false,
     "start_time": "2024-07-30T09:20:19.875251",
     "status": "completed"
    },
    "tags": []
   },
   "outputs": [
    {
     "data": {
      "text/plain": [
       "id           0\n",
       "title      558\n",
       "author    1957\n",
       "text        39\n",
       "label        0\n",
       "dtype: int64"
      ]
     },
     "execution_count": 6,
     "metadata": {},
     "output_type": "execute_result"
    }
   ],
   "source": [
    "df.isna().sum()"
   ]
  },
  {
   "cell_type": "code",
   "execution_count": 7,
   "id": "f4141814",
   "metadata": {
    "execution": {
     "iopub.execute_input": "2024-07-30T09:20:19.934682Z",
     "iopub.status.busy": "2024-07-30T09:20:19.934226Z",
     "iopub.status.idle": "2024-07-30T09:20:19.954613Z",
     "shell.execute_reply": "2024-07-30T09:20:19.953579Z"
    },
    "papermill": {
     "duration": 0.035126,
     "end_time": "2024-07-30T09:20:19.957229",
     "exception": false,
     "start_time": "2024-07-30T09:20:19.922103",
     "status": "completed"
    },
    "tags": []
   },
   "outputs": [],
   "source": [
    "# Replacing missing values in Data with empty\n",
    "df = df.fillna('')"
   ]
  },
  {
   "cell_type": "code",
   "execution_count": 8,
   "id": "e321feb3",
   "metadata": {
    "execution": {
     "iopub.execute_input": "2024-07-30T09:20:19.981545Z",
     "iopub.status.busy": "2024-07-30T09:20:19.981078Z",
     "iopub.status.idle": "2024-07-30T09:20:19.999289Z",
     "shell.execute_reply": "2024-07-30T09:20:19.998212Z"
    },
    "papermill": {
     "duration": 0.035741,
     "end_time": "2024-07-30T09:20:20.003613",
     "exception": false,
     "start_time": "2024-07-30T09:20:19.967872",
     "status": "completed"
    },
    "tags": []
   },
   "outputs": [],
   "source": [
    "# merging author and title column to content column \n",
    "\n",
    "df['content'] = df['author'] + ' ' + df['title'] "
   ]
  },
  {
   "cell_type": "code",
   "execution_count": 9,
   "id": "4c9f5c89",
   "metadata": {
    "execution": {
     "iopub.execute_input": "2024-07-30T09:20:20.028695Z",
     "iopub.status.busy": "2024-07-30T09:20:20.028262Z",
     "iopub.status.idle": "2024-07-30T09:20:20.038252Z",
     "shell.execute_reply": "2024-07-30T09:20:20.037074Z"
    },
    "papermill": {
     "duration": 0.024895,
     "end_time": "2024-07-30T09:20:20.040702",
     "exception": false,
     "start_time": "2024-07-30T09:20:20.015807",
     "status": "completed"
    },
    "tags": []
   },
   "outputs": [
    {
     "data": {
      "text/plain": [
       "0        Darrell Lucus House Dem Aide: We Didn’t Even S...\n",
       "1        Daniel J. Flynn FLYNN: Hillary Clinton, Big Wo...\n",
       "2        Consortiumnews.com Why the Truth Might Get You...\n",
       "3        Jessica Purkiss 15 Civilians Killed In Single ...\n",
       "4        Howard Portnoy Iranian woman jailed for fictio...\n",
       "                               ...                        \n",
       "20795    Jerome Hudson Rapper T.I.: Trump a ’Poster Chi...\n",
       "20796    Benjamin Hoffman N.F.L. Playoffs: Schedule, Ma...\n",
       "20797    Michael J. de la Merced and Rachel Abrams Macy...\n",
       "20798    Alex Ansary NATO, Russia To Hold Parallel Exer...\n",
       "20799              David Swanson What Keeps the F-35 Alive\n",
       "Name: content, Length: 20800, dtype: object"
      ]
     },
     "execution_count": 9,
     "metadata": {},
     "output_type": "execute_result"
    }
   ],
   "source": [
    "df['content']"
   ]
  },
  {
   "cell_type": "code",
   "execution_count": 10,
   "id": "db87bd32",
   "metadata": {
    "execution": {
     "iopub.execute_input": "2024-07-30T09:20:20.064397Z",
     "iopub.status.busy": "2024-07-30T09:20:20.063939Z",
     "iopub.status.idle": "2024-07-30T09:20:20.076041Z",
     "shell.execute_reply": "2024-07-30T09:20:20.075000Z"
    },
    "papermill": {
     "duration": 0.027179,
     "end_time": "2024-07-30T09:20:20.078833",
     "exception": false,
     "start_time": "2024-07-30T09:20:20.051654",
     "status": "completed"
    },
    "tags": []
   },
   "outputs": [],
   "source": [
    "# Separating Data\n",
    "\n",
    "x = df.drop(columns='label', axis=1)\n",
    "y = df['label']"
   ]
  },
  {
   "cell_type": "markdown",
   "id": "c23edc21",
   "metadata": {
    "papermill": {
     "duration": 0.010638,
     "end_time": "2024-07-30T09:20:20.100381",
     "exception": false,
     "start_time": "2024-07-30T09:20:20.089743",
     "status": "completed"
    },
    "tags": []
   },
   "source": [
    "Stemming \n",
    "\n",
    "IS a processing of reducing word to it's root word\n",
    "\n",
    "EX:==> playing , playing ====> play"
   ]
  },
  {
   "cell_type": "code",
   "execution_count": 11,
   "id": "b35b82b9",
   "metadata": {
    "execution": {
     "iopub.execute_input": "2024-07-30T09:20:20.123846Z",
     "iopub.status.busy": "2024-07-30T09:20:20.123442Z",
     "iopub.status.idle": "2024-07-30T09:20:20.128367Z",
     "shell.execute_reply": "2024-07-30T09:20:20.127219Z"
    },
    "papermill": {
     "duration": 0.019665,
     "end_time": "2024-07-30T09:20:20.130921",
     "exception": false,
     "start_time": "2024-07-30T09:20:20.111256",
     "status": "completed"
    },
    "tags": []
   },
   "outputs": [],
   "source": [
    "stem = PorterStemmer()"
   ]
  },
  {
   "cell_type": "code",
   "execution_count": 12,
   "id": "0ff4b56d",
   "metadata": {
    "execution": {
     "iopub.execute_input": "2024-07-30T09:20:20.154550Z",
     "iopub.status.busy": "2024-07-30T09:20:20.154151Z",
     "iopub.status.idle": "2024-07-30T09:20:20.161019Z",
     "shell.execute_reply": "2024-07-30T09:20:20.159844Z"
    },
    "papermill": {
     "duration": 0.02154,
     "end_time": "2024-07-30T09:20:20.163467",
     "exception": false,
     "start_time": "2024-07-30T09:20:20.141927",
     "status": "completed"
    },
    "tags": []
   },
   "outputs": [],
   "source": [
    "def stemming(content):\n",
    "    stemmed_content = re.sub('[^a-zA-Z]', ' ', content)\n",
    "    stemmed_content = stemmed_content.lower()\n",
    "    stemmed_content = stemmed_content.split()\n",
    "    stemmed_content = [stem.stem(word) for word in stemmed_content if not word in stopwords.words('english')]\n",
    "    stemmed_content = ' '.join(stemmed_content)\n",
    "    return stemmed_content"
   ]
  },
  {
   "cell_type": "code",
   "execution_count": 13,
   "id": "c8020669",
   "metadata": {
    "execution": {
     "iopub.execute_input": "2024-07-30T09:20:20.186919Z",
     "iopub.status.busy": "2024-07-30T09:20:20.186546Z",
     "iopub.status.idle": "2024-07-30T09:21:13.191058Z",
     "shell.execute_reply": "2024-07-30T09:21:13.189677Z"
    },
    "papermill": {
     "duration": 53.019822,
     "end_time": "2024-07-30T09:21:13.194170",
     "exception": false,
     "start_time": "2024-07-30T09:20:20.174348",
     "status": "completed"
    },
    "tags": []
   },
   "outputs": [],
   "source": [
    "df['content'] = df['content'].apply(stemming)"
   ]
  },
  {
   "cell_type": "code",
   "execution_count": 14,
   "id": "006e6ea5",
   "metadata": {
    "execution": {
     "iopub.execute_input": "2024-07-30T09:21:13.218251Z",
     "iopub.status.busy": "2024-07-30T09:21:13.217728Z",
     "iopub.status.idle": "2024-07-30T09:21:13.228027Z",
     "shell.execute_reply": "2024-07-30T09:21:13.226605Z"
    },
    "papermill": {
     "duration": 0.02523,
     "end_time": "2024-07-30T09:21:13.230743",
     "exception": false,
     "start_time": "2024-07-30T09:21:13.205513",
     "status": "completed"
    },
    "tags": []
   },
   "outputs": [
    {
     "data": {
      "text/plain": [
       "0        darrel lucu hous dem aid even see comey letter...\n",
       "1        daniel j flynn flynn hillari clinton big woman...\n",
       "2                   consortiumnew com truth might get fire\n",
       "3        jessica purkiss civilian kill singl us airstri...\n",
       "4        howard portnoy iranian woman jail fiction unpu...\n",
       "                               ...                        \n",
       "20795    jerom hudson rapper trump poster child white s...\n",
       "20796    benjamin hoffman n f l playoff schedul matchup...\n",
       "20797    michael j de la merc rachel abram maci said re...\n",
       "20798    alex ansari nato russia hold parallel exercis ...\n",
       "20799                            david swanson keep f aliv\n",
       "Name: content, Length: 20800, dtype: object"
      ]
     },
     "execution_count": 14,
     "metadata": {},
     "output_type": "execute_result"
    }
   ],
   "source": [
    "df['content']"
   ]
  },
  {
   "cell_type": "code",
   "execution_count": 15,
   "id": "5752d5a6",
   "metadata": {
    "execution": {
     "iopub.execute_input": "2024-07-30T09:21:13.256571Z",
     "iopub.status.busy": "2024-07-30T09:21:13.256107Z",
     "iopub.status.idle": "2024-07-30T09:21:13.263341Z",
     "shell.execute_reply": "2024-07-30T09:21:13.262091Z"
    },
    "papermill": {
     "duration": 0.023385,
     "end_time": "2024-07-30T09:21:13.265884",
     "exception": false,
     "start_time": "2024-07-30T09:21:13.242499",
     "status": "completed"
    },
    "tags": []
   },
   "outputs": [],
   "source": [
    "# Separating Data\n",
    "\n",
    "x = df['content'].values\n",
    "y = df['label'].values"
   ]
  },
  {
   "cell_type": "code",
   "execution_count": 16,
   "id": "b144ca5b",
   "metadata": {
    "execution": {
     "iopub.execute_input": "2024-07-30T09:21:13.291341Z",
     "iopub.status.busy": "2024-07-30T09:21:13.290857Z",
     "iopub.status.idle": "2024-07-30T09:21:13.298172Z",
     "shell.execute_reply": "2024-07-30T09:21:13.296961Z"
    },
    "papermill": {
     "duration": 0.023373,
     "end_time": "2024-07-30T09:21:13.300658",
     "exception": false,
     "start_time": "2024-07-30T09:21:13.277285",
     "status": "completed"
    },
    "tags": []
   },
   "outputs": [
    {
     "data": {
      "text/plain": [
       "array(['darrel lucu hous dem aid even see comey letter jason chaffetz tweet',\n",
       "       'daniel j flynn flynn hillari clinton big woman campu breitbart',\n",
       "       'consortiumnew com truth might get fire', ...,\n",
       "       'michael j de la merc rachel abram maci said receiv takeov approach hudson bay new york time',\n",
       "       'alex ansari nato russia hold parallel exercis balkan',\n",
       "       'david swanson keep f aliv'], dtype=object)"
      ]
     },
     "execution_count": 16,
     "metadata": {},
     "output_type": "execute_result"
    }
   ],
   "source": [
    "x"
   ]
  },
  {
   "cell_type": "code",
   "execution_count": 17,
   "id": "4262e664",
   "metadata": {
    "execution": {
     "iopub.execute_input": "2024-07-30T09:21:13.325310Z",
     "iopub.status.busy": "2024-07-30T09:21:13.324874Z",
     "iopub.status.idle": "2024-07-30T09:21:13.332377Z",
     "shell.execute_reply": "2024-07-30T09:21:13.331164Z"
    },
    "papermill": {
     "duration": 0.022918,
     "end_time": "2024-07-30T09:21:13.334921",
     "exception": false,
     "start_time": "2024-07-30T09:21:13.312003",
     "status": "completed"
    },
    "tags": []
   },
   "outputs": [
    {
     "data": {
      "text/plain": [
       "array([1, 0, 1, ..., 0, 1, 1])"
      ]
     },
     "execution_count": 17,
     "metadata": {},
     "output_type": "execute_result"
    }
   ],
   "source": [
    "y"
   ]
  },
  {
   "cell_type": "code",
   "execution_count": 18,
   "id": "4369c644",
   "metadata": {
    "execution": {
     "iopub.execute_input": "2024-07-30T09:21:13.359962Z",
     "iopub.status.busy": "2024-07-30T09:21:13.359090Z",
     "iopub.status.idle": "2024-07-30T09:21:14.163708Z",
     "shell.execute_reply": "2024-07-30T09:21:14.162490Z"
    },
    "papermill": {
     "duration": 0.820097,
     "end_time": "2024-07-30T09:21:14.166551",
     "exception": false,
     "start_time": "2024-07-30T09:21:13.346454",
     "status": "completed"
    },
    "tags": []
   },
   "outputs": [],
   "source": [
    "# Converting textual Data to Numerical Data \n",
    "\n",
    "t2n = TfidfVectorizer()\n",
    "\n",
    "t2n.fit(x)\n",
    "\n",
    "x = t2n.transform(x)"
   ]
  },
  {
   "cell_type": "code",
   "execution_count": 19,
   "id": "3bd7bec8",
   "metadata": {
    "execution": {
     "iopub.execute_input": "2024-07-30T09:21:14.191588Z",
     "iopub.status.busy": "2024-07-30T09:21:14.191145Z",
     "iopub.status.idle": "2024-07-30T09:21:14.215517Z",
     "shell.execute_reply": "2024-07-30T09:21:14.214077Z"
    },
    "papermill": {
     "duration": 0.040264,
     "end_time": "2024-07-30T09:21:14.218308",
     "exception": false,
     "start_time": "2024-07-30T09:21:14.178044",
     "status": "completed"
    },
    "tags": []
   },
   "outputs": [],
   "source": [
    "# splitting Data\n",
    "\n",
    "x_train, x_test, y_train, y_test = train_test_split(x,y, test_size =0.2, random_state=2, stratify=y)"
   ]
  },
  {
   "cell_type": "markdown",
   "id": "2446525c",
   "metadata": {
    "papermill": {
     "duration": 0.01115,
     "end_time": "2024-07-30T09:21:14.241322",
     "exception": false,
     "start_time": "2024-07-30T09:21:14.230172",
     "status": "completed"
    },
    "tags": []
   },
   "source": [
    "Training Model =======> Logistic Regression\n"
   ]
  },
  {
   "cell_type": "code",
   "execution_count": 20,
   "id": "53ef9eaf",
   "metadata": {
    "execution": {
     "iopub.execute_input": "2024-07-30T09:21:14.266715Z",
     "iopub.status.busy": "2024-07-30T09:21:14.266304Z",
     "iopub.status.idle": "2024-07-30T09:21:14.271839Z",
     "shell.execute_reply": "2024-07-30T09:21:14.270685Z"
    },
    "papermill": {
     "duration": 0.021819,
     "end_time": "2024-07-30T09:21:14.274556",
     "exception": false,
     "start_time": "2024-07-30T09:21:14.252737",
     "status": "completed"
    },
    "tags": []
   },
   "outputs": [],
   "source": [
    "model = LogisticRegression()\n"
   ]
  },
  {
   "cell_type": "code",
   "execution_count": 21,
   "id": "28a015e4",
   "metadata": {
    "execution": {
     "iopub.execute_input": "2024-07-30T09:21:14.299120Z",
     "iopub.status.busy": "2024-07-30T09:21:14.298677Z",
     "iopub.status.idle": "2024-07-30T09:21:14.980810Z",
     "shell.execute_reply": "2024-07-30T09:21:14.979420Z"
    },
    "papermill": {
     "duration": 0.699634,
     "end_time": "2024-07-30T09:21:14.985474",
     "exception": false,
     "start_time": "2024-07-30T09:21:14.285840",
     "status": "completed"
    },
    "tags": []
   },
   "outputs": [
    {
     "data": {
      "text/html": [
       "<style>#sk-container-id-1 {color: black;background-color: white;}#sk-container-id-1 pre{padding: 0;}#sk-container-id-1 div.sk-toggleable {background-color: white;}#sk-container-id-1 label.sk-toggleable__label {cursor: pointer;display: block;width: 100%;margin-bottom: 0;padding: 0.3em;box-sizing: border-box;text-align: center;}#sk-container-id-1 label.sk-toggleable__label-arrow:before {content: \"▸\";float: left;margin-right: 0.25em;color: #696969;}#sk-container-id-1 label.sk-toggleable__label-arrow:hover:before {color: black;}#sk-container-id-1 div.sk-estimator:hover label.sk-toggleable__label-arrow:before {color: black;}#sk-container-id-1 div.sk-toggleable__content {max-height: 0;max-width: 0;overflow: hidden;text-align: left;background-color: #f0f8ff;}#sk-container-id-1 div.sk-toggleable__content pre {margin: 0.2em;color: black;border-radius: 0.25em;background-color: #f0f8ff;}#sk-container-id-1 input.sk-toggleable__control:checked~div.sk-toggleable__content {max-height: 200px;max-width: 100%;overflow: auto;}#sk-container-id-1 input.sk-toggleable__control:checked~label.sk-toggleable__label-arrow:before {content: \"▾\";}#sk-container-id-1 div.sk-estimator input.sk-toggleable__control:checked~label.sk-toggleable__label {background-color: #d4ebff;}#sk-container-id-1 div.sk-label input.sk-toggleable__control:checked~label.sk-toggleable__label {background-color: #d4ebff;}#sk-container-id-1 input.sk-hidden--visually {border: 0;clip: rect(1px 1px 1px 1px);clip: rect(1px, 1px, 1px, 1px);height: 1px;margin: -1px;overflow: hidden;padding: 0;position: absolute;width: 1px;}#sk-container-id-1 div.sk-estimator {font-family: monospace;background-color: #f0f8ff;border: 1px dotted black;border-radius: 0.25em;box-sizing: border-box;margin-bottom: 0.5em;}#sk-container-id-1 div.sk-estimator:hover {background-color: #d4ebff;}#sk-container-id-1 div.sk-parallel-item::after {content: \"\";width: 100%;border-bottom: 1px solid gray;flex-grow: 1;}#sk-container-id-1 div.sk-label:hover label.sk-toggleable__label {background-color: #d4ebff;}#sk-container-id-1 div.sk-serial::before {content: \"\";position: absolute;border-left: 1px solid gray;box-sizing: border-box;top: 0;bottom: 0;left: 50%;z-index: 0;}#sk-container-id-1 div.sk-serial {display: flex;flex-direction: column;align-items: center;background-color: white;padding-right: 0.2em;padding-left: 0.2em;position: relative;}#sk-container-id-1 div.sk-item {position: relative;z-index: 1;}#sk-container-id-1 div.sk-parallel {display: flex;align-items: stretch;justify-content: center;background-color: white;position: relative;}#sk-container-id-1 div.sk-item::before, #sk-container-id-1 div.sk-parallel-item::before {content: \"\";position: absolute;border-left: 1px solid gray;box-sizing: border-box;top: 0;bottom: 0;left: 50%;z-index: -1;}#sk-container-id-1 div.sk-parallel-item {display: flex;flex-direction: column;z-index: 1;position: relative;background-color: white;}#sk-container-id-1 div.sk-parallel-item:first-child::after {align-self: flex-end;width: 50%;}#sk-container-id-1 div.sk-parallel-item:last-child::after {align-self: flex-start;width: 50%;}#sk-container-id-1 div.sk-parallel-item:only-child::after {width: 0;}#sk-container-id-1 div.sk-dashed-wrapped {border: 1px dashed gray;margin: 0 0.4em 0.5em 0.4em;box-sizing: border-box;padding-bottom: 0.4em;background-color: white;}#sk-container-id-1 div.sk-label label {font-family: monospace;font-weight: bold;display: inline-block;line-height: 1.2em;}#sk-container-id-1 div.sk-label-container {text-align: center;}#sk-container-id-1 div.sk-container {/* jupyter's `normalize.less` sets `[hidden] { display: none; }` but bootstrap.min.css set `[hidden] { display: none !important; }` so we also need the `!important` here to be able to override the default hidden behavior on the sphinx rendered scikit-learn.org. See: https://github.com/scikit-learn/scikit-learn/issues/21755 */display: inline-block !important;position: relative;}#sk-container-id-1 div.sk-text-repr-fallback {display: none;}</style><div id=\"sk-container-id-1\" class=\"sk-top-container\"><div class=\"sk-text-repr-fallback\"><pre>LogisticRegression()</pre><b>In a Jupyter environment, please rerun this cell to show the HTML representation or trust the notebook. <br />On GitHub, the HTML representation is unable to render, please try loading this page with nbviewer.org.</b></div><div class=\"sk-container\" hidden><div class=\"sk-item\"><div class=\"sk-estimator sk-toggleable\"><input class=\"sk-toggleable__control sk-hidden--visually\" id=\"sk-estimator-id-1\" type=\"checkbox\" checked><label for=\"sk-estimator-id-1\" class=\"sk-toggleable__label sk-toggleable__label-arrow\">LogisticRegression</label><div class=\"sk-toggleable__content\"><pre>LogisticRegression()</pre></div></div></div></div></div>"
      ],
      "text/plain": [
       "LogisticRegression()"
      ]
     },
     "execution_count": 21,
     "metadata": {},
     "output_type": "execute_result"
    }
   ],
   "source": [
    "model.fit(x_train, y_train)"
   ]
  },
  {
   "cell_type": "markdown",
   "id": "f138e7fe",
   "metadata": {
    "papermill": {
     "duration": 0.037749,
     "end_time": "2024-07-30T09:21:15.085937",
     "exception": false,
     "start_time": "2024-07-30T09:21:15.048188",
     "status": "completed"
    },
    "tags": []
   },
   "source": [
    "Evaluation \n",
    "\n",
    "\n",
    "Accuracy Score"
   ]
  },
  {
   "cell_type": "code",
   "execution_count": 22,
   "id": "e89b3e66",
   "metadata": {
    "execution": {
     "iopub.execute_input": "2024-07-30T09:21:15.110923Z",
     "iopub.status.busy": "2024-07-30T09:21:15.110504Z",
     "iopub.status.idle": "2024-07-30T09:21:15.119382Z",
     "shell.execute_reply": "2024-07-30T09:21:15.118251Z"
    },
    "papermill": {
     "duration": 0.024797,
     "end_time": "2024-07-30T09:21:15.122198",
     "exception": false,
     "start_time": "2024-07-30T09:21:15.097401",
     "status": "completed"
    },
    "tags": []
   },
   "outputs": [],
   "source": [
    "x_train_prediction = model.predict(x_train)\n",
    "\n",
    "training_accuracy = accuracy_score(x_train_prediction, y_train)\n"
   ]
  },
  {
   "cell_type": "code",
   "execution_count": 23,
   "id": "19a218cf",
   "metadata": {
    "execution": {
     "iopub.execute_input": "2024-07-30T09:21:15.147197Z",
     "iopub.status.busy": "2024-07-30T09:21:15.146742Z",
     "iopub.status.idle": "2024-07-30T09:21:15.153045Z",
     "shell.execute_reply": "2024-07-30T09:21:15.151750Z"
    },
    "papermill": {
     "duration": 0.022973,
     "end_time": "2024-07-30T09:21:15.156844",
     "exception": false,
     "start_time": "2024-07-30T09:21:15.133871",
     "status": "completed"
    },
    "tags": []
   },
   "outputs": [
    {
     "name": "stdout",
     "output_type": "stream",
     "text": [
      "Accuracy of Training:  0.9865985576923076\n"
     ]
    }
   ],
   "source": [
    "print(\"Accuracy of Training: \", training_accuracy)"
   ]
  },
  {
   "cell_type": "code",
   "execution_count": 24,
   "id": "c69b18d5",
   "metadata": {
    "execution": {
     "iopub.execute_input": "2024-07-30T09:21:15.182516Z",
     "iopub.status.busy": "2024-07-30T09:21:15.182128Z",
     "iopub.status.idle": "2024-07-30T09:21:15.189061Z",
     "shell.execute_reply": "2024-07-30T09:21:15.188027Z"
    },
    "papermill": {
     "duration": 0.0227,
     "end_time": "2024-07-30T09:21:15.191628",
     "exception": false,
     "start_time": "2024-07-30T09:21:15.168928",
     "status": "completed"
    },
    "tags": []
   },
   "outputs": [],
   "source": [
    "x_test_prediction = model.predict(x_test)\n",
    "\n",
    "testing_accuracy = accuracy_score(x_test_prediction, y_test)"
   ]
  },
  {
   "cell_type": "code",
   "execution_count": 25,
   "id": "73e47693",
   "metadata": {
    "execution": {
     "iopub.execute_input": "2024-07-30T09:21:15.217073Z",
     "iopub.status.busy": "2024-07-30T09:21:15.216213Z",
     "iopub.status.idle": "2024-07-30T09:21:15.222265Z",
     "shell.execute_reply": "2024-07-30T09:21:15.221062Z"
    },
    "papermill": {
     "duration": 0.02157,
     "end_time": "2024-07-30T09:21:15.224884",
     "exception": false,
     "start_time": "2024-07-30T09:21:15.203314",
     "status": "completed"
    },
    "tags": []
   },
   "outputs": [
    {
     "name": "stdout",
     "output_type": "stream",
     "text": [
      "Accuracy of Testing:  0.9790865384615385\n"
     ]
    }
   ],
   "source": [
    "print(\"Accuracy of Testing: \", testing_accuracy)"
   ]
  },
  {
   "cell_type": "code",
   "execution_count": 26,
   "id": "9bf466cb",
   "metadata": {
    "execution": {
     "iopub.execute_input": "2024-07-30T09:21:15.250661Z",
     "iopub.status.busy": "2024-07-30T09:21:15.250278Z",
     "iopub.status.idle": "2024-07-30T09:21:15.536566Z",
     "shell.execute_reply": "2024-07-30T09:21:15.535176Z"
    },
    "papermill": {
     "duration": 0.302573,
     "end_time": "2024-07-30T09:21:15.539434",
     "exception": false,
     "start_time": "2024-07-30T09:21:15.236861",
     "status": "completed"
    },
    "tags": []
   },
   "outputs": [
    {
     "data": {
      "image/png": "[encoded data removed]",
      "text/plain": [
       "<Figure size 800x600 with 1 Axes>"
      ]
     },
     "metadata": {},
     "output_type": "display_data"
    }
   ],
   "source": [
    "x = ['Training Accuracy', 'Testing Accuracy']\n",
    "y = [training_accuracy, testing_accuracy]\n",
    "\n",
    "plt.figure(figsize=(8, 6))\n",
    "plt.bar(x, y)\n",
    "\n",
    "# Add labels and title\n",
    "plt.xlabel('Accuracy')\n",
    "plt.ylabel('Score')\n",
    "plt.title('Training and Testing Accuracy')\n",
    "plt.show()"
   ]
  },
  {
   "cell_type": "code",
   "execution_count": null,
   "id": "ee52a8c3",
   "metadata": {
    "papermill": {
     "duration": 0.012592,
     "end_time": "2024-07-30T09:21:15.564879",
     "exception": false,
     "start_time": "2024-07-30T09:21:15.552287",
     "status": "completed"
    },
    "tags": []
   },
   "outputs": [],
   "source": []
  }
 ],
 "metadata": {
  "kaggle": {
   "accelerator": "none",
   "dataSources": [
    {
     "datasetId": 5467068,
     "sourceId": 9065033,
     "sourceType": "datasetVersion"
    }
   ],
   "dockerImageVersionId": 30746,
   "isGpuEnabled": false,
   "isInternetEnabled": true,
   "language": "python",
   "sourceType": "notebook"
  },
  "kernelspec": {
   "display_name": "Python 3",
   "language": "python",
   "name": "python3"
  },
  "language_info": {
   "codemirror_mode": {
    "name": "ipython",
    "version": 3
   },
   "file_extension": ".py",
   "mimetype": "text/x-python",
   "name": "python",
   "nbconvert_exporter": "python",
   "pygments_lexer": "ipython3",
   "version": "3.10.13"
  },
  "papermill": {
   "default_parameters": {},
   "duration": 66.678972,
   "end_time": "2024-07-30T09:21:16.299787",
   "environment_variables": {},
   "exception": null,
   "input_path": "__notebook__.ipynb",
   "output_path": "__notebook__.ipynb",
   "parameters": {},
   "start_time": "2024-07-30T09:20:09.620815",
   "version": "2.5.0"
  }
 },
 "nbformat": 4,
 "nbformat_minor": 5
}
